{
 "cells": [
  {
   "cell_type": "code",
   "execution_count": 5,
   "id": "eb16aa0d-b70c-487f-9cd6-38ce66ad04fc",
   "metadata": {
    "tags": []
   },
   "outputs": [],
   "source": [
    "import io\n",
    "from PIL import Image\n",
    "from fastai.vision.all import *\n",
    "from fastai.vision.widgets import *"
   ]
  },
  {
   "cell_type": "code",
   "execution_count": 2,
   "id": "84c6d175-6a86-4874-a5d2-514e6c982331",
   "metadata": {
    "tags": []
   },
   "outputs": [],
   "source": [
    "learn_inf = load_learner('export.pkl')"
   ]
  },
  {
   "cell_type": "code",
   "execution_count": 20,
   "id": "7ac893f5-c310-443a-bb1e-b94bd87734fd",
   "metadata": {
    "tags": []
   },
   "outputs": [],
   "source": [
    "#setting up widgets for classifier\n",
    "uploader = widgets.FileUpload() #upload button\n",
    "out_pl = widgets.Output() #image display\n",
    "out_pl.clear_output()\n",
    "lbl_pred = widgets.Label() #prediction probability label\n",
    "btn_run = widgets.Button(description='Classify') #classify button\n",
    "def on_click_classify(change): #click event for classify button\n",
    "    img = Image.open(io.BytesIO(uploader.value[0].content.tobytes()))\n",
    "    out_pl.clear_output()\n",
    "    with out_pl: display(img.to_thumb(128,128))\n",
    "    pred,pred_idx,probs = learn_inf.predict(img)\n",
    "    if str(pred) == 'other':\n",
    "        pred = 'bug that is neither a bee nor a wasp'\n",
    "    lbl_pred.value = f'Prediction: it looks like you have a {pred}! The model is {probs[pred_idx]*100:0.4f}% confident.'\n",
    "btn_run.on_click(on_click_classify)"
   ]
  },
  {
   "cell_type": "markdown",
   "id": "2e980611-ddec-479c-a95c-5861e7bb9f7d",
   "metadata": {},
   "source": [
    "# What's that in my yard?\n",
    "### A bee/wasp/bug discriminator\n",
    "\n",
    "Upload a .jpg image of a bug by clicking the 'Upload' button below. Then click classify to see whether it is a bee, a wasp, or neither! "
   ]
  },
  {
   "cell_type": "code",
   "execution_count": 21,
   "id": "b0688296-2148-45df-8d3b-e4ef8f095e43",
   "metadata": {
    "tags": []
   },
   "outputs": [
    {
     "data": {
      "application/vnd.jupyter.widget-view+json": {
       "model_id": "9badeaf8564f498c90d6a77fa003cf7c",
       "version_major": 2,
       "version_minor": 0
      },
      "text/plain": [
       "VBox(children=(Label(value='Select your bug!'), FileUpload(value=(), description='Upload'), Button(description…"
      ]
     },
     "execution_count": 21,
     "metadata": {},
     "output_type": "execute_result"
    }
   ],
   "source": [
    "VBox([widgets.Label('Select your bug!'), \n",
    "      uploader, btn_run, out_pl, lbl_pred])#initializing widgets"
   ]
  },
  {
   "cell_type": "code",
   "execution_count": null,
   "id": "792c6106-8b0d-4a71-8dea-631c32ea1727",
   "metadata": {},
   "outputs": [],
   "source": []
  }
 ],
 "metadata": {
  "kernelspec": {
   "display_name": "Python 3 (ipykernel)",
   "language": "python",
   "name": "python3"
  },
  "language_info": {
   "codemirror_mode": {
    "name": "ipython",
    "version": 3
   },
   "file_extension": ".py",
   "mimetype": "text/x-python",
   "name": "python",
   "nbconvert_exporter": "python",
   "pygments_lexer": "ipython3",
   "version": "3.10.10"
  }
 },
 "nbformat": 4,
 "nbformat_minor": 5
}
